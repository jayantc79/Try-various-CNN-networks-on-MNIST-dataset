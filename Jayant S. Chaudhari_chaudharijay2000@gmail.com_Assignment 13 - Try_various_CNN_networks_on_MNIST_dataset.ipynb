{
 "cells": [
  {
   "cell_type": "markdown",
   "metadata": {
    "colab_type": "text",
    "id": "5-v_fnFr90Zx"
   },
   "source": [
    "# Assignment-13: Try various CNN networks on MNIST dataset\n"
   ]
  },
  {
   "cell_type": "markdown",
   "metadata": {
    "colab_type": "text",
    "id": "q6PwApBf-Cy2"
   },
   "source": [
    "Three different architecture of CNN network on MNIST datasets.MNIST datasets contains handwritten images .\n",
    "\n"
   ]
  },
  {
   "cell_type": "markdown",
   "metadata": {
    "colab_type": "text",
    "id": "76DnZFgD-QkO"
   },
   "source": [
    "Objective:\n",
    "1.   3_ConvNets with kernel 3x3\n",
    "2.   5_ConvNets with kernel 5x5\n",
    "3.   7_ConvnNets with kernel 2x2\n",
    "\n"
   ]
  },
  {
   "cell_type": "code",
   "execution_count": 1,
   "metadata": {
    "colab": {
     "base_uri": "https://localhost:8080/",
     "height": 80
    },
    "colab_type": "code",
    "id": "04zwR_Mn-Nt0",
    "outputId": "f5e4f892-04e7-4bd0-a58e-5595faf36812"
   },
   "outputs": [
    {
     "name": "stderr",
     "output_type": "stream",
     "text": [
      "Using TensorFlow backend.\n"
     ]
    },
    {
     "data": {
      "text/html": [
       "<p style=\"color: red;\">\n",
       "The default version of TensorFlow in Colab will soon switch to TensorFlow 2.x.<br>\n",
       "We recommend you <a href=\"https://www.tensorflow.org/guide/migrate\" target=\"_blank\">upgrade</a> now \n",
       "or ensure your notebook will continue to use TensorFlow 1.x via the <code>%tensorflow_version 1.x</code> magic:\n",
       "<a href=\"https://colab.research.google.com/notebooks/tensorflow_version.ipynb\" target=\"_blank\">more info</a>.</p>\n"
      ],
      "text/plain": [
       "<IPython.core.display.HTML object>"
      ]
     },
     "metadata": {
      "tags": []
     },
     "output_type": "display_data"
    }
   ],
   "source": [
    "# Credits: https://github.com/keras-team/keras/blob/master/examples/mnist_cnn.py\n",
    "\n",
    "from datetime import datetime\n",
    "from __future__ import print_function\n",
    "import keras\n",
    "from keras.datasets import mnist\n",
    "from keras.models import Sequential\n",
    "from keras.layers import Dense, Dropout, Flatten\n",
    "from keras.layers import Conv2D, MaxPooling2D\n",
    "from keras import backend as K\n",
    "\n",
    "from keras.initializers import he_normal\n",
    "from keras.layers.normalization import BatchNormalization\n",
    "\n",
    "\n",
    "batch_size = 128\n",
    "num_classes = 10\n",
    "epochs = 12\n",
    "\n",
    "# input image dimensions\n",
    "img_rows, img_cols = 28, 28\n"
   ]
  },
  {
   "cell_type": "code",
   "execution_count": 2,
   "metadata": {
    "colab": {
     "base_uri": "https://localhost:8080/",
     "height": 51
    },
    "colab_type": "code",
    "id": "iZ90Dim9_ZGt",
    "outputId": "3f889224-3a1d-4143-8e9d-a08450d0314b"
   },
   "outputs": [
    {
     "name": "stdout",
     "output_type": "stream",
     "text": [
      "Downloading data from https://s3.amazonaws.com/img-datasets/mnist.npz\n",
      "11493376/11490434 [==============================] - 2s 0us/step\n"
     ]
    }
   ],
   "source": [
    "(x_train, y_train), (x_test, y_test) = mnist.load_data()"
   ]
  },
  {
   "cell_type": "code",
   "execution_count": 3,
   "metadata": {
    "colab": {
     "base_uri": "https://localhost:8080/",
     "height": 68
    },
    "colab_type": "code",
    "id": "uPy4iB4T_ZTy",
    "outputId": "4efd1cfd-5a3c-43d0-abd7-b2b273a05112"
   },
   "outputs": [
    {
     "name": "stdout",
     "output_type": "stream",
     "text": [
      "x_train shape: (60000, 28, 28, 1)\n",
      "60000 train samples\n",
      "10000 test samples\n"
     ]
    }
   ],
   "source": [
    "if K.image_data_format() == 'channels_first':\n",
    "    x_train = x_train.reshape(x_train.shape[0], 1, img_rows, img_cols)\n",
    "    x_test = x_test.reshape(x_test.shape[0], 1, img_rows, img_cols)\n",
    "    input_shape = (1, img_rows, img_cols)\n",
    "else:\n",
    "    x_train = x_train.reshape(x_train.shape[0], img_rows, img_cols, 1)\n",
    "    x_test = x_test.reshape(x_test.shape[0], img_rows, img_cols, 1)\n",
    "    input_shape = (img_rows, img_cols, 1)\n",
    "\n",
    "x_train = x_train.astype('float32')\n",
    "x_test = x_test.astype('float32')\n",
    "x_train /= 255\n",
    "x_test /= 255\n",
    "print('x_train shape:', x_train.shape)\n",
    "print(x_train.shape[0], 'train samples')\n",
    "print(x_test.shape[0], 'test samples')\n",
    "\n",
    "# convert class vectors to binary class matrices\n",
    "y_train = keras.utils.to_categorical(y_train, num_classes)\n",
    "y_test = keras.utils.to_categorical(y_test, num_classes)"
   ]
  },
  {
   "cell_type": "code",
   "execution_count": 4,
   "metadata": {
    "colab": {
     "base_uri": "https://localhost:8080/",
     "height": 34
    },
    "colab_type": "code",
    "id": "AllBo0dW_Zei",
    "outputId": "da99b27f-8d3a-4b0b-8cfa-dc89e69fbaa7"
   },
   "outputs": [
    {
     "name": "stdout",
     "output_type": "stream",
     "text": [
      "(60000, 10)\n"
     ]
    }
   ],
   "source": [
    "print(y_train.shape)"
   ]
  },
  {
   "cell_type": "code",
   "execution_count": 0,
   "metadata": {
    "colab": {},
    "colab_type": "code",
    "id": "HtqWzXDO_pmU"
   },
   "outputs": [],
   "source": [
    "%matplotlib inline\n",
    "import matplotlib.pyplot as plt\n",
    "import numpy as np\n",
    "import time\n",
    "# https://gist.github.com/greydanus/f6eee59eaf1d90fcb3b534a25362cea4\n",
    "# https://stackoverflow.com/a/14434334\n",
    "# this function is used to update the plots for each epoch and error\n",
    "def plt_dynamic(x, vy, ty):\n",
    "  fig = plt.figure( facecolor='y', edgecolor='k')\n",
    "  plt.plot(x, vy, 'b', label=\"Validation Loss\")\n",
    "  plt.plot(x, ty, 'r', label=\"Train Loss\")\n",
    "  plt.xlabel('Epochs') \n",
    "  plt.ylabel('Categorical Crossentropy Loss')\n",
    "  plt.legend()\n",
    "  plt.grid()\n",
    "  plt.show()"
   ]
  },
  {
   "cell_type": "markdown",
   "metadata": {
    "colab_type": "text",
    "id": "yDsxjfOU_7SP"
   },
   "source": [
    "### 1 Model 1:CNN with 3 ConvNet & 3x3 kernel size\n"
   ]
  },
  {
   "cell_type": "code",
   "execution_count": 6,
   "metadata": {
    "colab": {
     "base_uri": "https://localhost:8080/",
     "height": 785
    },
    "colab_type": "code",
    "id": "CuzHDybA_ptU",
    "outputId": "d3af6721-0dd9-4b4c-ade5-bf7e530a8d15"
   },
   "outputs": [
    {
     "name": "stdout",
     "output_type": "stream",
     "text": [
      "WARNING:tensorflow:From /usr/local/lib/python3.6/dist-packages/keras/backend/tensorflow_backend.py:66: The name tf.get_default_graph is deprecated. Please use tf.compat.v1.get_default_graph instead.\n",
      "\n",
      "WARNING:tensorflow:From /usr/local/lib/python3.6/dist-packages/keras/backend/tensorflow_backend.py:541: The name tf.placeholder is deprecated. Please use tf.compat.v1.placeholder instead.\n",
      "\n",
      "WARNING:tensorflow:From /usr/local/lib/python3.6/dist-packages/keras/backend/tensorflow_backend.py:4432: The name tf.random_uniform is deprecated. Please use tf.random.uniform instead.\n",
      "\n",
      "WARNING:tensorflow:From /usr/local/lib/python3.6/dist-packages/keras/backend/tensorflow_backend.py:148: The name tf.placeholder_with_default is deprecated. Please use tf.compat.v1.placeholder_with_default instead.\n",
      "\n",
      "WARNING:tensorflow:From /usr/local/lib/python3.6/dist-packages/keras/backend/tensorflow_backend.py:3733: calling dropout (from tensorflow.python.ops.nn_ops) with keep_prob is deprecated and will be removed in a future version.\n",
      "Instructions for updating:\n",
      "Please use `rate` instead of `keep_prob`. Rate should be set to `rate = 1 - keep_prob`.\n",
      "WARNING:tensorflow:From /usr/local/lib/python3.6/dist-packages/keras/backend/tensorflow_backend.py:4267: The name tf.nn.max_pool is deprecated. Please use tf.nn.max_pool2d instead.\n",
      "\n",
      "WARNING:tensorflow:From /usr/local/lib/python3.6/dist-packages/keras/backend/tensorflow_backend.py:4479: The name tf.truncated_normal is deprecated. Please use tf.random.truncated_normal instead.\n",
      "\n",
      "Model: \"sequential_1\"\n",
      "_________________________________________________________________\n",
      "Layer (type)                 Output Shape              Param #   \n",
      "=================================================================\n",
      "conv2d_1 (Conv2D)            (None, 26, 26, 32)        320       \n",
      "_________________________________________________________________\n",
      "conv2d_2 (Conv2D)            (None, 24, 24, 64)        18496     \n",
      "_________________________________________________________________\n",
      "dropout_1 (Dropout)          (None, 24, 24, 64)        0         \n",
      "_________________________________________________________________\n",
      "conv2d_3 (Conv2D)            (None, 22, 22, 128)       73856     \n",
      "_________________________________________________________________\n",
      "max_pooling2d_1 (MaxPooling2 (None, 11, 11, 128)       0         \n",
      "_________________________________________________________________\n",
      "dropout_2 (Dropout)          (None, 11, 11, 128)       0         \n",
      "_________________________________________________________________\n",
      "flatten_1 (Flatten)          (None, 15488)             0         \n",
      "_________________________________________________________________\n",
      "dense_1 (Dense)              (None, 256)               3965184   \n",
      "_________________________________________________________________\n",
      "dropout_3 (Dropout)          (None, 256)               0         \n",
      "_________________________________________________________________\n",
      "dense_2 (Dense)              (None, 10)                2570      \n",
      "=================================================================\n",
      "Total params: 4,060,426\n",
      "Trainable params: 4,060,426\n",
      "Non-trainable params: 0\n",
      "_________________________________________________________________\n",
      "None\n"
     ]
    }
   ],
   "source": [
    "convnet3=Sequential() # Initializing the model\n",
    "\n",
    "# First ConvNet\n",
    "convnet3.add(Conv2D(32,kernel_size=(3,3),\n",
    "                    activation='relu',\n",
    "                    input_shape=input_shape))\n",
    "\n",
    "convnet3.add(Conv2D(64,kernel_size=(3,3),\n",
    "                    activation='relu'))\n",
    "\n",
    "convnet3.add(Dropout(0.25))\n",
    "\n",
    "convnet3.add(Conv2D(128,kernel_size=(3,3),\n",
    "                   activation='relu'))\n",
    "#maxpooling by (2,2 ) ,dropout,flattening\n",
    "convnet3.add(MaxPooling2D(pool_size=(2,2)))\n",
    "convnet3.add(Dropout(0.25))\n",
    "convnet3.add(Flatten())\n",
    "\n",
    "#hidden_layer\n",
    "convnet3.add(Dense(256,\n",
    "                   activation='relu',\n",
    "                   kernel_initializer=he_normal(seed=None)))\n",
    "convnet3.add(Dropout(0.5))\n",
    "convnet3.add(Dense(num_classes,activation='softmax'))\n",
    "print(convnet3.summary())"
   ]
  },
  {
   "cell_type": "code",
   "execution_count": 7,
   "metadata": {
    "colab": {
     "base_uri": "https://localhost:8080/",
     "height": 853
    },
    "colab_type": "code",
    "id": "5icOGYB7_p0x",
    "outputId": "cf7d3d43-5e08-4885-b298-1c72a52dc961"
   },
   "outputs": [
    {
     "name": "stdout",
     "output_type": "stream",
     "text": [
      "WARNING:tensorflow:From /usr/local/lib/python3.6/dist-packages/keras/optimizers.py:793: The name tf.train.Optimizer is deprecated. Please use tf.compat.v1.train.Optimizer instead.\n",
      "\n",
      "WARNING:tensorflow:From /usr/local/lib/python3.6/dist-packages/keras/backend/tensorflow_backend.py:3576: The name tf.log is deprecated. Please use tf.math.log instead.\n",
      "\n",
      "WARNING:tensorflow:From /usr/local/lib/python3.6/dist-packages/tensorflow_core/python/ops/math_grad.py:1424: where (from tensorflow.python.ops.array_ops) is deprecated and will be removed in a future version.\n",
      "Instructions for updating:\n",
      "Use tf.where in 2.0, which has the same broadcast rule as np.where\n",
      "WARNING:tensorflow:From /usr/local/lib/python3.6/dist-packages/keras/backend/tensorflow_backend.py:1033: The name tf.assign_add is deprecated. Please use tf.compat.v1.assign_add instead.\n",
      "\n",
      "WARNING:tensorflow:From /usr/local/lib/python3.6/dist-packages/keras/backend/tensorflow_backend.py:1020: The name tf.assign is deprecated. Please use tf.compat.v1.assign instead.\n",
      "\n",
      "WARNING:tensorflow:From /usr/local/lib/python3.6/dist-packages/keras/backend/tensorflow_backend.py:3005: The name tf.Session is deprecated. Please use tf.compat.v1.Session instead.\n",
      "\n",
      "Train on 60000 samples, validate on 10000 samples\n",
      "Epoch 1/12\n",
      "WARNING:tensorflow:From /usr/local/lib/python3.6/dist-packages/keras/backend/tensorflow_backend.py:190: The name tf.get_default_session is deprecated. Please use tf.compat.v1.get_default_session instead.\n",
      "\n",
      "WARNING:tensorflow:From /usr/local/lib/python3.6/dist-packages/keras/backend/tensorflow_backend.py:197: The name tf.ConfigProto is deprecated. Please use tf.compat.v1.ConfigProto instead.\n",
      "\n",
      "WARNING:tensorflow:From /usr/local/lib/python3.6/dist-packages/keras/backend/tensorflow_backend.py:207: The name tf.global_variables is deprecated. Please use tf.compat.v1.global_variables instead.\n",
      "\n",
      "WARNING:tensorflow:From /usr/local/lib/python3.6/dist-packages/keras/backend/tensorflow_backend.py:216: The name tf.is_variable_initialized is deprecated. Please use tf.compat.v1.is_variable_initialized instead.\n",
      "\n",
      "WARNING:tensorflow:From /usr/local/lib/python3.6/dist-packages/keras/backend/tensorflow_backend.py:223: The name tf.variables_initializer is deprecated. Please use tf.compat.v1.variables_initializer instead.\n",
      "\n",
      "60000/60000 [==============================] - 28s 460us/step - loss: 0.1847 - acc: 0.9423 - val_loss: 0.0396 - val_acc: 0.9873\n",
      "Epoch 2/12\n",
      "60000/60000 [==============================] - 20s 335us/step - loss: 0.0621 - acc: 0.9812 - val_loss: 0.0314 - val_acc: 0.9891\n",
      "Epoch 3/12\n",
      "60000/60000 [==============================] - 20s 335us/step - loss: 0.0460 - acc: 0.9860 - val_loss: 0.0276 - val_acc: 0.9904\n",
      "Epoch 4/12\n",
      "60000/60000 [==============================] - 20s 336us/step - loss: 0.0370 - acc: 0.9879 - val_loss: 0.0264 - val_acc: 0.9906\n",
      "Epoch 5/12\n",
      "60000/60000 [==============================] - 20s 337us/step - loss: 0.0309 - acc: 0.9901 - val_loss: 0.0210 - val_acc: 0.9922\n",
      "Epoch 6/12\n",
      "60000/60000 [==============================] - 20s 333us/step - loss: 0.0269 - acc: 0.9916 - val_loss: 0.0219 - val_acc: 0.9933\n",
      "Epoch 7/12\n",
      "60000/60000 [==============================] - 20s 334us/step - loss: 0.0243 - acc: 0.9918 - val_loss: 0.0240 - val_acc: 0.9918\n",
      "Epoch 8/12\n",
      "60000/60000 [==============================] - 20s 335us/step - loss: 0.0202 - acc: 0.9930 - val_loss: 0.0267 - val_acc: 0.9920\n",
      "Epoch 9/12\n",
      "60000/60000 [==============================] - 20s 334us/step - loss: 0.0188 - acc: 0.9937 - val_loss: 0.0252 - val_acc: 0.9924\n",
      "Epoch 10/12\n",
      "60000/60000 [==============================] - 20s 335us/step - loss: 0.0179 - acc: 0.9942 - val_loss: 0.0232 - val_acc: 0.9928\n",
      "Epoch 11/12\n",
      "60000/60000 [==============================] - 20s 333us/step - loss: 0.0159 - acc: 0.9949 - val_loss: 0.0216 - val_acc: 0.9932\n",
      "Epoch 12/12\n",
      "60000/60000 [==============================] - 20s 332us/step - loss: 0.0141 - acc: 0.9954 - val_loss: 0.0224 - val_acc: 0.9938\n"
     ]
    }
   ],
   "source": [
    "#Model compilation\n",
    "convnet3.compile(optimizer=keras.optimizers.Adam(),\n",
    "                loss=keras.losses.categorical_crossentropy,\n",
    "                metrics=['accuracy'])\n",
    "convnet3_history=convnet3.fit(x_train,y_train,batch_size=batch_size,\n",
    "                             epochs=epochs,\n",
    "                             verbose=1,\n",
    "                             validation_data=(x_test, y_test))"
   ]
  },
  {
   "cell_type": "code",
   "execution_count": 8,
   "metadata": {
    "colab": {
     "base_uri": "https://localhost:8080/",
     "height": 313
    },
    "colab_type": "code",
    "id": "UuwKL3T5BUX1",
    "outputId": "07d180b6-c964-41c8-d76d-c707cc78ddba"
   },
   "outputs": [
    {
     "name": "stdout",
     "output_type": "stream",
     "text": [
      "test score : 0.022394076778412635\n",
      "test sccuracy : 0.9938\n"
     ]
    },
    {
     "data": {
      "image/png": "[encoded data removed]",
      "text/plain": [
       "<Figure size 432x288 with 1 Axes>"
      ]
     },
     "metadata": {
      "tags": []
     },
     "output_type": "display_data"
    }
   ],
   "source": [
    "#evaluating model\n",
    "\n",
    "score=convnet3.evaluate(x_test,y_test,verbose=0)\n",
    "test_score3=score[0]\n",
    "test_accuracy3=score[1]\n",
    "train_accuracy3=max(convnet3_history.history['acc'])\n",
    "print('test score :',test_score3)\n",
    "print('test sccuracy :',test_accuracy3)\n",
    "# error plot\n",
    "x=list(range(1,epochs+1))\n",
    "vy=convnet3_history.history['val_loss'] #validation loss\n",
    "ty=convnet3_history.history['loss'] # train loss\n",
    "plt_dynamic(x, vy, ty)"
   ]
  },
  {
   "cell_type": "markdown",
   "metadata": {
    "colab_type": "text",
    "id": "ovq_3MW6A4LC"
   },
   "source": [
    "### 2 Model2:CNN with 5 ConvNet & kernel_size=(5x5)\n",
    "\n",
    "> 5 convNet followed by maxpooling(2,2) and dropout\n",
    "\n",
    "\n"
   ]
  },
  {
   "cell_type": "code",
   "execution_count": 9,
   "metadata": {
    "colab": {
     "base_uri": "https://localhost:8080/",
     "height": 782
    },
    "colab_type": "code",
    "id": "79fwGlGd_Zyd",
    "outputId": "517a9595-9647-4982-e769-42381e6e9ebc"
   },
   "outputs": [
    {
     "name": "stdout",
     "output_type": "stream",
     "text": [
      "Model: \"sequential_2\"\n",
      "_________________________________________________________________\n",
      "Layer (type)                 Output Shape              Param #   \n",
      "=================================================================\n",
      "conv2d_4 (Conv2D)            (None, 28, 28, 32)        832       \n",
      "_________________________________________________________________\n",
      "conv2d_5 (Conv2D)            (None, 28, 28, 64)        51264     \n",
      "_________________________________________________________________\n",
      "max_pooling2d_2 (MaxPooling2 (None, 14, 14, 64)        0         \n",
      "_________________________________________________________________\n",
      "dropout_4 (Dropout)          (None, 14, 14, 64)        0         \n",
      "_________________________________________________________________\n",
      "conv2d_6 (Conv2D)            (None, 14, 14, 96)        153696    \n",
      "_________________________________________________________________\n",
      "max_pooling2d_3 (MaxPooling2 (None, 7, 7, 96)          0         \n",
      "_________________________________________________________________\n",
      "dropout_5 (Dropout)          (None, 7, 7, 96)          0         \n",
      "_________________________________________________________________\n",
      "conv2d_7 (Conv2D)            (None, 7, 7, 128)         307328    \n",
      "_________________________________________________________________\n",
      "max_pooling2d_4 (MaxPooling2 (None, 3, 3, 128)         0         \n",
      "_________________________________________________________________\n",
      "dropout_6 (Dropout)          (None, 3, 3, 128)         0         \n",
      "_________________________________________________________________\n",
      "conv2d_8 (Conv2D)            (None, 3, 3, 164)         524964    \n",
      "_________________________________________________________________\n",
      "max_pooling2d_5 (MaxPooling2 (None, 1, 1, 164)         0         \n",
      "_________________________________________________________________\n",
      "dropout_7 (Dropout)          (None, 1, 1, 164)         0         \n",
      "_________________________________________________________________\n",
      "flatten_2 (Flatten)          (None, 164)               0         \n",
      "_________________________________________________________________\n",
      "dense_3 (Dense)              (None, 256)               42240     \n",
      "_________________________________________________________________\n",
      "batch_normalization_1 (Batch (None, 256)               1024      \n",
      "_________________________________________________________________\n",
      "dropout_8 (Dropout)          (None, 256)               0         \n",
      "_________________________________________________________________\n",
      "dense_4 (Dense)              (None, 10)                2570      \n",
      "=================================================================\n",
      "Total params: 1,083,918\n",
      "Trainable params: 1,083,406\n",
      "Non-trainable params: 512\n",
      "_________________________________________________________________\n",
      "None\n"
     ]
    }
   ],
   "source": [
    "convnet5=Sequential() # Initializing the model\n",
    "\n",
    "# First ConvNet\n",
    "convnet5.add(Conv2D(32,kernel_size=(5,5),\n",
    "                    activation='relu',\n",
    "                    padding='same',\n",
    "                    input_shape=input_shape))\n",
    "\n",
    "convnet5.add(Conv2D(64,kernel_size=(5,5),\n",
    "                    padding='same',\n",
    "                    activation='relu'))#Second Convnet\n",
    "convnet5.add(MaxPooling2D(pool_size=(2,2)))\n",
    "convnet5.add(Dropout(0.25))\n",
    "\n",
    "convnet5.add(Conv2D(96,kernel_size=(5,5),\n",
    "                    padding='same',\n",
    "                   activation='relu'))  # 3rd ConvNet\n",
    "#maxpooling by (2,2 ) ,dropout,flattening\n",
    "convnet5.add(MaxPooling2D(pool_size=(2,2)))\n",
    "convnet5.add(Dropout(0.25))\n",
    "\n",
    "convnet5.add(Conv2D(128,kernel_size=(5,5),\n",
    "                    padding='same',\n",
    "                    activation='relu'))#fourth Convnet\n",
    "convnet5.add(MaxPooling2D(pool_size=(2,2)))\n",
    "convnet5.add(Dropout(0.25))\n",
    "convnet5.add(Conv2D(164,kernel_size=(5,5),\n",
    "                    padding='same',\n",
    "                    activation='relu'))#fifth Convnet\n",
    "convnet5.add(MaxPooling2D(pool_size=(2,2)))\n",
    "convnet5.add(Dropout(0.25))\n",
    "convnet5.add(Flatten())\n",
    "\n",
    "#hidden_layer\n",
    "convnet5.add(Dense(256,\n",
    "                   activation='relu',\n",
    "                   kernel_initializer=he_normal(seed=None)))\n",
    "convnet5.add(BatchNormalization())\n",
    "convnet5.add(Dropout(0.5))\n",
    "convnet5.add(Dense(num_classes,activation='softmax'))\n",
    "print(convnet5.summary())"
   ]
  },
  {
   "cell_type": "code",
   "execution_count": 10,
   "metadata": {
    "colab": {
     "base_uri": "https://localhost:8080/",
     "height": 459
    },
    "colab_type": "code",
    "id": "Wq0esxlFBZp9",
    "outputId": "67579155-e6ff-49a8-869e-c2c9d7dbcca9"
   },
   "outputs": [
    {
     "name": "stdout",
     "output_type": "stream",
     "text": [
      "Train on 60000 samples, validate on 10000 samples\n",
      "Epoch 1/12\n",
      "60000/60000 [==============================] - 24s 400us/step - loss: 0.2883 - acc: 0.9074 - val_loss: 0.0402 - val_acc: 0.9876\n",
      "Epoch 2/12\n",
      "60000/60000 [==============================] - 22s 368us/step - loss: 0.0686 - acc: 0.9798 - val_loss: 0.0346 - val_acc: 0.9900\n",
      "Epoch 3/12\n",
      "60000/60000 [==============================] - 22s 368us/step - loss: 0.0499 - acc: 0.9858 - val_loss: 0.0253 - val_acc: 0.9919\n",
      "Epoch 4/12\n",
      "60000/60000 [==============================] - 22s 366us/step - loss: 0.0409 - acc: 0.9882 - val_loss: 0.0268 - val_acc: 0.9920\n",
      "Epoch 5/12\n",
      "60000/60000 [==============================] - 22s 368us/step - loss: 0.0362 - acc: 0.9896 - val_loss: 0.0228 - val_acc: 0.9941\n",
      "Epoch 6/12\n",
      "60000/60000 [==============================] - 22s 366us/step - loss: 0.0298 - acc: 0.9914 - val_loss: 0.0232 - val_acc: 0.9929\n",
      "Epoch 7/12\n",
      "60000/60000 [==============================] - 22s 371us/step - loss: 0.0263 - acc: 0.9921 - val_loss: 0.0245 - val_acc: 0.9935\n",
      "Epoch 8/12\n",
      "60000/60000 [==============================] - 22s 366us/step - loss: 0.0229 - acc: 0.9930 - val_loss: 0.0158 - val_acc: 0.9947\n",
      "Epoch 9/12\n",
      "60000/60000 [==============================] - 22s 367us/step - loss: 0.0227 - acc: 0.9935 - val_loss: 0.0192 - val_acc: 0.9954\n",
      "Epoch 10/12\n",
      "60000/60000 [==============================] - 22s 366us/step - loss: 0.0195 - acc: 0.9942 - val_loss: 0.0239 - val_acc: 0.9936\n",
      "Epoch 11/12\n",
      "60000/60000 [==============================] - 22s 366us/step - loss: 0.0197 - acc: 0.9943 - val_loss: 0.0213 - val_acc: 0.9947\n",
      "Epoch 12/12\n",
      "60000/60000 [==============================] - 22s 369us/step - loss: 0.0178 - acc: 0.9947 - val_loss: 0.0189 - val_acc: 0.9951\n",
      "Time taken to run this cell : 0:04:27.479989\n"
     ]
    }
   ],
   "source": [
    "#Model compilation\n",
    "start = datetime.now()\n",
    "convnet5.compile(optimizer=keras.optimizers.Adam(),\n",
    "                loss=keras.losses.categorical_crossentropy,\n",
    "                metrics=['accuracy'])\n",
    "convnet5_history=convnet5.fit(x_train,y_train,batch_size=batch_size,\n",
    "                             epochs=epochs,\n",
    "                             verbose=1,\n",
    "                             validation_data=(x_test, y_test))\n",
    "print(\"Time taken to run this cell :\", datetime.now() - start)"
   ]
  },
  {
   "cell_type": "code",
   "execution_count": 11,
   "metadata": {
    "colab": {
     "base_uri": "https://localhost:8080/",
     "height": 316
    },
    "colab_type": "code",
    "id": "V2a5CTkKBZzk",
    "outputId": "2bd5edd9-2d5c-4e89-b145-755cc8391a9f"
   },
   "outputs": [
    {
     "name": "stdout",
     "output_type": "stream",
     "text": [
      "test score : 0.01892038440361739\n",
      "test Accuracy : 0.9951\n"
     ]
    },
    {
     "data": {
      "image/png": "[encoded data removed]",
      "text/plain": [
       "<Figure size 432x288 with 1 Axes>"
      ]
     },
     "metadata": {
      "tags": []
     },
     "output_type": "display_data"
    }
   ],
   "source": [
    "#evaluating model\n",
    "score=convnet5.evaluate(x_test,y_test,verbose=0)\n",
    "test_score5=score[0]\n",
    "test_accuracy5=score[1]\n",
    "train_accuracy5=max(convnet5_history.history['acc'])\n",
    "print('test score :',test_score5)\n",
    "print('test Accuracy :',test_accuracy5)\n",
    "# error plot\n",
    "x=list(range(1,epochs+1))\n",
    "vy=convnet5_history.history['val_loss'] #validation loss\n",
    "ty=convnet5_history.history['loss'] # train loss\n",
    "plt_dynamic(x, vy, ty)"
   ]
  },
  {
   "cell_type": "markdown",
   "metadata": {
    "colab_type": "text",
    "id": "Qtd6oKKoB3Ih"
   },
   "source": [
    "### 3 Model3:CNN with 7 ConvNet & kernel_size=(2x2)\n",
    "5 convNet followed by maxpooling(2,2) and dropout\n",
    "\n"
   ]
  },
  {
   "cell_type": "code",
   "execution_count": 12,
   "metadata": {
    "colab": {
     "base_uri": "https://localhost:8080/",
     "height": 1000
    },
    "colab_type": "code",
    "id": "Gxs_3UqWBZ6i",
    "outputId": "f2fb9d1a-0ad7-4b35-bd71-4fc3ae212190"
   },
   "outputs": [
    {
     "name": "stdout",
     "output_type": "stream",
     "text": [
      "Model: \"sequential_3\"\n",
      "_________________________________________________________________\n",
      "Layer (type)                 Output Shape              Param #   \n",
      "=================================================================\n",
      "conv2d_9 (Conv2D)            (None, 28, 28, 16)        80        \n",
      "_________________________________________________________________\n",
      "conv2d_10 (Conv2D)           (None, 14, 14, 32)        2080      \n",
      "_________________________________________________________________\n",
      "conv2d_11 (Conv2D)           (None, 14, 14, 64)        8256      \n",
      "_________________________________________________________________\n",
      "dropout_9 (Dropout)          (None, 14, 14, 64)        0         \n",
      "_________________________________________________________________\n",
      "conv2d_12 (Conv2D)           (None, 14, 14, 96)        24672     \n",
      "_________________________________________________________________\n",
      "max_pooling2d_6 (MaxPooling2 (None, 7, 7, 96)          0         \n",
      "_________________________________________________________________\n",
      "dropout_10 (Dropout)         (None, 7, 7, 96)          0         \n",
      "_________________________________________________________________\n",
      "conv2d_13 (Conv2D)           (None, 7, 7, 128)         49280     \n",
      "_________________________________________________________________\n",
      "max_pooling2d_7 (MaxPooling2 (None, 3, 3, 128)         0         \n",
      "_________________________________________________________________\n",
      "dropout_11 (Dropout)         (None, 3, 3, 128)         0         \n",
      "_________________________________________________________________\n",
      "conv2d_14 (Conv2D)           (None, 3, 3, 164)         84132     \n",
      "_________________________________________________________________\n",
      "conv2d_15 (Conv2D)           (None, 3, 3, 164)         107748    \n",
      "_________________________________________________________________\n",
      "max_pooling2d_8 (MaxPooling2 (None, 1, 1, 164)         0         \n",
      "_________________________________________________________________\n",
      "dropout_12 (Dropout)         (None, 1, 1, 164)         0         \n",
      "_________________________________________________________________\n",
      "flatten_3 (Flatten)          (None, 164)               0         \n",
      "_________________________________________________________________\n",
      "dense_5 (Dense)              (None, 256)               42240     \n",
      "_________________________________________________________________\n",
      "batch_normalization_2 (Batch (None, 256)               1024      \n",
      "_________________________________________________________________\n",
      "dropout_13 (Dropout)         (None, 256)               0         \n",
      "_________________________________________________________________\n",
      "dense_6 (Dense)              (None, 148)               38036     \n",
      "_________________________________________________________________\n",
      "batch_normalization_3 (Batch (None, 148)               592       \n",
      "_________________________________________________________________\n",
      "dropout_14 (Dropout)         (None, 148)               0         \n",
      "_________________________________________________________________\n",
      "dense_7 (Dense)              (None, 128)               19072     \n",
      "_________________________________________________________________\n",
      "batch_normalization_4 (Batch (None, 128)               512       \n",
      "_________________________________________________________________\n",
      "dropout_15 (Dropout)         (None, 128)               0         \n",
      "_________________________________________________________________\n",
      "dense_8 (Dense)              (None, 10)                1290      \n",
      "=================================================================\n",
      "Total params: 379,014\n",
      "Trainable params: 377,950\n",
      "Non-trainable params: 1,064\n",
      "_________________________________________________________________\n",
      "None\n"
     ]
    }
   ],
   "source": [
    "convnet7=Sequential() # Initializing the model\n",
    "\n",
    "# First ConvNet\n",
    "convnet7.add(Conv2D(16,kernel_size=(2,2),\n",
    "                    activation='relu',\n",
    "                    padding='same',strides=(1,1),\n",
    "                    input_shape=input_shape))\n",
    "\n",
    "\n",
    "convnet7.add(Conv2D(32,kernel_size=(2,2),\n",
    "                    padding='same',strides=(2,2),\n",
    "                    activation='relu'))#Second Convnet\n",
    "#convnet7.add(MaxPooling2D(pool_size=(2,2)))\n",
    "#convnet7.add(Dropout(0.25))\n",
    "\n",
    "convnet7.add(Conv2D(64,kernel_size=(2,2),\n",
    "                    padding='same',\n",
    "                   activation='relu'))  # 3rd ConvNet\n",
    "#maxpooling by (2,2 ) ,dropout,flattening\n",
    "#convnet7.add(MaxPooling2D(pool_size=(2,2)))\n",
    "convnet7.add(Dropout(0.15))\n",
    "\n",
    "convnet7.add(Conv2D(96,kernel_size=(2,2),\n",
    "                    padding='same',\n",
    "                    activation='relu'))#fourth Convnet\n",
    "convnet7.add(MaxPooling2D(pool_size=(2,2)))\n",
    "convnet7.add(Dropout(0.39))\n",
    "convnet7.add(Conv2D(128,kernel_size=(2,2),\n",
    "                    padding='same',\n",
    "                    activation='relu'))#fifth Convnet\n",
    "convnet7.add(MaxPooling2D(pool_size=(2,2)))\n",
    "convnet7.add(Dropout(0.3))\n",
    "convnet7.add(Conv2D(164,kernel_size=(2,2),\n",
    "                    padding='same',\n",
    "                    activation='relu'))#sixth Convnet\n",
    "convnet7.add(Conv2D(164,kernel_size=(2,2),\n",
    "                    padding='same',strides=(1,1),\n",
    "                    activation='relu'))#seventh Convnet\n",
    "\n",
    "convnet7.add(MaxPooling2D(pool_size=(2,2)))\n",
    "convnet7.add(Dropout(0.4))\n",
    "convnet7.add(Flatten())\n",
    "\n",
    "#hidden_layer\n",
    "convnet7.add(Dense(256,\n",
    "                   activation='relu',\n",
    "                   kernel_initializer=he_normal(seed=None)))#1 hidden layer\n",
    "convnet7.add(BatchNormalization())\n",
    "convnet7.add(Dropout(0.5))\n",
    "convnet7.add(Dense(148,\n",
    "                   activation='relu',\n",
    "                   kernel_initializer=he_normal(seed=None)))#2 hidden layer\n",
    "convnet7.add(BatchNormalization())\n",
    "convnet7.add(Dropout(0.5))\n",
    "convnet7.add(Dense(128,\n",
    "                   activation='relu',\n",
    "                   kernel_initializer=he_normal(seed=None)))#3 hidden layer\n",
    "convnet7.add(BatchNormalization())\n",
    "convnet7.add(Dropout(0.5))\n",
    "convnet7.add(Dense(num_classes,activation='softmax'))\n",
    "print(convnet7.summary())"
   ]
  },
  {
   "cell_type": "code",
   "execution_count": 13,
   "metadata": {
    "colab": {
     "base_uri": "https://localhost:8080/",
     "height": 459
    },
    "colab_type": "code",
    "id": "82MUot7SBaH_",
    "outputId": "1a91d3eb-6210-452a-b142-b1af2bd5b8c5"
   },
   "outputs": [
    {
     "name": "stdout",
     "output_type": "stream",
     "text": [
      "Train on 60000 samples, validate on 10000 samples\n",
      "Epoch 1/12\n",
      "60000/60000 [==============================] - 18s 296us/step - loss: 1.8442 - acc: 0.3957 - val_loss: 0.7075 - val_acc: 0.7449\n",
      "Epoch 2/12\n",
      "60000/60000 [==============================] - 15s 257us/step - loss: 0.4220 - acc: 0.8798 - val_loss: 0.0951 - val_acc: 0.9748\n",
      "Epoch 3/12\n",
      "60000/60000 [==============================] - 16s 259us/step - loss: 0.2078 - acc: 0.9466 - val_loss: 0.0595 - val_acc: 0.9845\n",
      "Epoch 4/12\n",
      "60000/60000 [==============================] - 15s 256us/step - loss: 0.1486 - acc: 0.9625 - val_loss: 0.0690 - val_acc: 0.9836\n",
      "Epoch 5/12\n",
      "60000/60000 [==============================] - 16s 259us/step - loss: 0.1258 - acc: 0.9682 - val_loss: 0.0452 - val_acc: 0.9889\n",
      "Epoch 6/12\n",
      "60000/60000 [==============================] - 15s 257us/step - loss: 0.1031 - acc: 0.9744 - val_loss: 0.0446 - val_acc: 0.9897\n",
      "Epoch 7/12\n",
      "60000/60000 [==============================] - 15s 257us/step - loss: 0.0967 - acc: 0.9762 - val_loss: 0.0365 - val_acc: 0.9905\n",
      "Epoch 8/12\n",
      "60000/60000 [==============================] - 15s 258us/step - loss: 0.0884 - acc: 0.9786 - val_loss: 0.0326 - val_acc: 0.9924\n",
      "Epoch 9/12\n",
      "60000/60000 [==============================] - 15s 257us/step - loss: 0.0786 - acc: 0.9803 - val_loss: 0.0353 - val_acc: 0.9911\n",
      "Epoch 10/12\n",
      "60000/60000 [==============================] - 15s 257us/step - loss: 0.0740 - acc: 0.9823 - val_loss: 0.0288 - val_acc: 0.9921\n",
      "Epoch 11/12\n",
      "60000/60000 [==============================] - 16s 260us/step - loss: 0.0705 - acc: 0.9826 - val_loss: 0.0286 - val_acc: 0.9922\n",
      "Epoch 12/12\n",
      "60000/60000 [==============================] - 15s 257us/step - loss: 0.0692 - acc: 0.9837 - val_loss: 0.0329 - val_acc: 0.9924\n",
      "Time taken to run this cell : 0:03:09.532624\n"
     ]
    }
   ],
   "source": [
    "#Model compilation\n",
    "start=datetime.now()\n",
    "convnet7.compile(optimizer=keras.optimizers.Adam(),\n",
    "                loss=keras.losses.categorical_crossentropy,\n",
    "                metrics=['accuracy'])\n",
    "convnet7_history=convnet7.fit(x_train,y_train,batch_size=batch_size,\n",
    "                             epochs=epochs,\n",
    "                             verbose=1,\n",
    "                             validation_data=(x_test, y_test))\n",
    "print(\"Time taken to run this cell :\", datetime.now() - start)"
   ]
  },
  {
   "cell_type": "code",
   "execution_count": 14,
   "metadata": {
    "colab": {
     "base_uri": "https://localhost:8080/",
     "height": 313
    },
    "colab_type": "code",
    "id": "a9PuYf24DDzI",
    "outputId": "4ddcb76f-6fd7-44fc-b373-ec0b78a67998"
   },
   "outputs": [
    {
     "name": "stdout",
     "output_type": "stream",
     "text": [
      "test score : 0.03286810381822288\n",
      "test Accuracy : 0.9924\n"
     ]
    },
    {
     "data": {
      "image/png": "[encoded data removed]",
      "text/plain": [
       "<Figure size 432x288 with 1 Axes>"
      ]
     },
     "metadata": {
      "tags": []
     },
     "output_type": "display_data"
    }
   ],
   "source": [
    "#evaluating model\n",
    "score=convnet7.evaluate(x_test,y_test,verbose=0)\n",
    "test_score7=score[0]\n",
    "test_accuracy7=score[1]\n",
    "train_accuracy7=max(convnet7_history.history['acc'])\n",
    "print('test score :',test_score7)\n",
    "print('test Accuracy :',test_accuracy7)\n",
    "# error plot\n",
    "x=list(range(1,epochs+1))\n",
    "vy=convnet7_history.history['val_loss'] #validation loss\n",
    "ty=convnet7_history.history['loss'] # train loss\n",
    "plt_dynamic(x, vy, ty)"
   ]
  },
  {
   "cell_type": "markdown",
   "metadata": {
    "colab_type": "text",
    "id": "MQRw3BPsDu5O"
   },
   "source": [
    "# Observation"
   ]
  },
  {
   "cell_type": "code",
   "execution_count": 0,
   "metadata": {
    "colab": {},
    "colab_type": "code",
    "id": "bfVwerC6Dz_e"
   },
   "outputs": [],
   "source": [
    "from prettytable import PrettyTable\n",
    "models=['3ConvNet with kernel 3x3',\n",
    "        '5ConvNet with kernel 5x5',\n",
    "        '7ConvNet with kernel 2x2']\n",
    "training_accuracy=[train_accuracy3,train_accuracy5,train_accuracy7]\n",
    "test_accuracy=[test_accuracy3,test_accuracy5,test_accuracy7]\n",
    "INDEX = [1,2,3]\n",
    "# Initializing prettytable\n",
    "Model_Performance = PrettyTable()\n",
    "# Adding columns\n",
    "Model_Performance.add_column(\"INDEX.\",INDEX)\n",
    "Model_Performance.add_column(\"MODEL_NAME\",models)\n",
    "Model_Performance.add_column(\"TRAINING ACCURACY\",training_accuracy)\n",
    "Model_Performance.add_column(\"TESTING ACCURACY\",test_accuracy)\n",
    "#Model_Performance.add_column(\"TEST SCORE\",test_score)"
   ]
  },
  {
   "cell_type": "code",
   "execution_count": 16,
   "metadata": {
    "colab": {
     "base_uri": "https://localhost:8080/",
     "height": 136
    },
    "colab_type": "code",
    "id": "fmbZ5SkjD4Qx",
    "outputId": "8ae85c92-aa2a-4966-afbe-62fd2bdab113"
   },
   "outputs": [
    {
     "name": "stdout",
     "output_type": "stream",
     "text": [
      "+--------+--------------------------+--------------------+------------------+\n",
      "| INDEX. |        MODEL_NAME        | TRAINING ACCURACY  | TESTING ACCURACY |\n",
      "+--------+--------------------------+--------------------+------------------+\n",
      "|   1    | 3ConvNet with kernel 3x3 | 0.9954166666348775 |      0.9938      |\n",
      "|   2    | 5ConvNet with kernel 5x5 | 0.9946666666666667 |      0.9951      |\n",
      "|   3    | 7ConvNet with kernel 2x2 | 0.9836666666348776 |      0.9924      |\n",
      "+--------+--------------------------+--------------------+------------------+\n"
     ]
    }
   ],
   "source": [
    "print(Model_Performance)"
   ]
  },
  {
   "cell_type": "code",
   "execution_count": 0,
   "metadata": {
    "colab": {},
    "colab_type": "code",
    "id": "82V4urizD-ny"
   },
   "outputs": [],
   "source": []
  }
 ],
 "metadata": {
  "accelerator": "GPU",
  "colab": {
   "name": "Assignment-13: Try various CNN networks on MNIST dataset [M]¶",
   "provenance": []
  },
  "kernelspec": {
   "display_name": "Python 3",
   "language": "python",
   "name": "python3"
  },
  "language_info": {
   "codemirror_mode": {
    "name": "ipython",
    "version": 3
   },
   "file_extension": ".py",
   "mimetype": "text/x-python",
   "name": "python",
   "nbconvert_exporter": "python",
   "pygments_lexer": "ipython3",
   "version": "3.7.4"
  }
 },
 "nbformat": 4,
 "nbformat_minor": 1
}
